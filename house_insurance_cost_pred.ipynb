{
 "cells": [
  {
   "cell_type": "code",
   "execution_count": 29,
   "id": "22539a8f",
   "metadata": {},
   "outputs": [],
   "source": [
    "import pandas as pd \n",
    "import numpy as np\n",
    "import matplotlib.pyplot as plt\n",
    "import seaborn as sns\n",
    "%matplotlib inline\n",
    "from sklearn.model_selection import train_test_split\n",
    "from sklearn.linear_model import LinearRegression"
   ]
  },
  {
   "cell_type": "code",
   "execution_count": 30,
   "id": "66c87b2d",
   "metadata": {},
   "outputs": [],
   "source": [
    "df = pd.read_csv('https://raw.githubusercontent.com/stedy/Machine-Learning-with-R-datasets/master/insurance.csv')"
   ]
  },
  {
   "cell_type": "code",
   "execution_count": 31,
   "id": "573fdaa1",
   "metadata": {},
   "outputs": [
    {
     "data": {
      "text/html": [
       "<div>\n",
       "<style scoped>\n",
       "    .dataframe tbody tr th:only-of-type {\n",
       "        vertical-align: middle;\n",
       "    }\n",
       "\n",
       "    .dataframe tbody tr th {\n",
       "        vertical-align: top;\n",
       "    }\n",
       "\n",
       "    .dataframe thead th {\n",
       "        text-align: right;\n",
       "    }\n",
       "</style>\n",
       "<table border=\"1\" class=\"dataframe\">\n",
       "  <thead>\n",
       "    <tr style=\"text-align: right;\">\n",
       "      <th></th>\n",
       "      <th>age</th>\n",
       "      <th>sex</th>\n",
       "      <th>bmi</th>\n",
       "      <th>children</th>\n",
       "      <th>smoker</th>\n",
       "      <th>region</th>\n",
       "      <th>charges</th>\n",
       "    </tr>\n",
       "  </thead>\n",
       "  <tbody>\n",
       "    <tr>\n",
       "      <th>0</th>\n",
       "      <td>19</td>\n",
       "      <td>female</td>\n",
       "      <td>27.900</td>\n",
       "      <td>0</td>\n",
       "      <td>yes</td>\n",
       "      <td>southwest</td>\n",
       "      <td>16884.92400</td>\n",
       "    </tr>\n",
       "    <tr>\n",
       "      <th>1</th>\n",
       "      <td>18</td>\n",
       "      <td>male</td>\n",
       "      <td>33.770</td>\n",
       "      <td>1</td>\n",
       "      <td>no</td>\n",
       "      <td>southeast</td>\n",
       "      <td>1725.55230</td>\n",
       "    </tr>\n",
       "    <tr>\n",
       "      <th>2</th>\n",
       "      <td>28</td>\n",
       "      <td>male</td>\n",
       "      <td>33.000</td>\n",
       "      <td>3</td>\n",
       "      <td>no</td>\n",
       "      <td>southeast</td>\n",
       "      <td>4449.46200</td>\n",
       "    </tr>\n",
       "    <tr>\n",
       "      <th>3</th>\n",
       "      <td>33</td>\n",
       "      <td>male</td>\n",
       "      <td>22.705</td>\n",
       "      <td>0</td>\n",
       "      <td>no</td>\n",
       "      <td>northwest</td>\n",
       "      <td>21984.47061</td>\n",
       "    </tr>\n",
       "    <tr>\n",
       "      <th>4</th>\n",
       "      <td>32</td>\n",
       "      <td>male</td>\n",
       "      <td>28.880</td>\n",
       "      <td>0</td>\n",
       "      <td>no</td>\n",
       "      <td>northwest</td>\n",
       "      <td>3866.85520</td>\n",
       "    </tr>\n",
       "    <tr>\n",
       "      <th>...</th>\n",
       "      <td>...</td>\n",
       "      <td>...</td>\n",
       "      <td>...</td>\n",
       "      <td>...</td>\n",
       "      <td>...</td>\n",
       "      <td>...</td>\n",
       "      <td>...</td>\n",
       "    </tr>\n",
       "    <tr>\n",
       "      <th>1333</th>\n",
       "      <td>50</td>\n",
       "      <td>male</td>\n",
       "      <td>30.970</td>\n",
       "      <td>3</td>\n",
       "      <td>no</td>\n",
       "      <td>northwest</td>\n",
       "      <td>10600.54830</td>\n",
       "    </tr>\n",
       "    <tr>\n",
       "      <th>1334</th>\n",
       "      <td>18</td>\n",
       "      <td>female</td>\n",
       "      <td>31.920</td>\n",
       "      <td>0</td>\n",
       "      <td>no</td>\n",
       "      <td>northeast</td>\n",
       "      <td>2205.98080</td>\n",
       "    </tr>\n",
       "    <tr>\n",
       "      <th>1335</th>\n",
       "      <td>18</td>\n",
       "      <td>female</td>\n",
       "      <td>36.850</td>\n",
       "      <td>0</td>\n",
       "      <td>no</td>\n",
       "      <td>southeast</td>\n",
       "      <td>1629.83350</td>\n",
       "    </tr>\n",
       "    <tr>\n",
       "      <th>1336</th>\n",
       "      <td>21</td>\n",
       "      <td>female</td>\n",
       "      <td>25.800</td>\n",
       "      <td>0</td>\n",
       "      <td>no</td>\n",
       "      <td>southwest</td>\n",
       "      <td>2007.94500</td>\n",
       "    </tr>\n",
       "    <tr>\n",
       "      <th>1337</th>\n",
       "      <td>61</td>\n",
       "      <td>female</td>\n",
       "      <td>29.070</td>\n",
       "      <td>0</td>\n",
       "      <td>yes</td>\n",
       "      <td>northwest</td>\n",
       "      <td>29141.36030</td>\n",
       "    </tr>\n",
       "  </tbody>\n",
       "</table>\n",
       "<p>1338 rows × 7 columns</p>\n",
       "</div>"
      ],
      "text/plain": [
       "      age     sex     bmi  children smoker     region      charges\n",
       "0      19  female  27.900         0    yes  southwest  16884.92400\n",
       "1      18    male  33.770         1     no  southeast   1725.55230\n",
       "2      28    male  33.000         3     no  southeast   4449.46200\n",
       "3      33    male  22.705         0     no  northwest  21984.47061\n",
       "4      32    male  28.880         0     no  northwest   3866.85520\n",
       "...   ...     ...     ...       ...    ...        ...          ...\n",
       "1333   50    male  30.970         3     no  northwest  10600.54830\n",
       "1334   18  female  31.920         0     no  northeast   2205.98080\n",
       "1335   18  female  36.850         0     no  southeast   1629.83350\n",
       "1336   21  female  25.800         0     no  southwest   2007.94500\n",
       "1337   61  female  29.070         0    yes  northwest  29141.36030\n",
       "\n",
       "[1338 rows x 7 columns]"
      ]
     },
     "execution_count": 31,
     "metadata": {},
     "output_type": "execute_result"
    }
   ],
   "source": [
    "df"
   ]
  },
  {
   "cell_type": "code",
   "execution_count": 32,
   "id": "148881c9",
   "metadata": {},
   "outputs": [
    {
     "name": "stdout",
     "output_type": "stream",
     "text": [
      "<class 'pandas.core.frame.DataFrame'>\n",
      "RangeIndex: 1338 entries, 0 to 1337\n",
      "Data columns (total 7 columns):\n",
      " #   Column    Non-Null Count  Dtype  \n",
      "---  ------    --------------  -----  \n",
      " 0   age       1338 non-null   int64  \n",
      " 1   sex       1338 non-null   object \n",
      " 2   bmi       1338 non-null   float64\n",
      " 3   children  1338 non-null   int64  \n",
      " 4   smoker    1338 non-null   object \n",
      " 5   region    1338 non-null   object \n",
      " 6   charges   1338 non-null   float64\n",
      "dtypes: float64(2), int64(2), object(3)\n",
      "memory usage: 73.3+ KB\n"
     ]
    }
   ],
   "source": [
    "df.info()"
   ]
  },
  {
   "cell_type": "code",
   "execution_count": 33,
   "id": "0d849fae",
   "metadata": {},
   "outputs": [
    {
     "data": {
      "text/plain": [
       "Index(['age', 'sex', 'bmi', 'children', 'smoker', 'region', 'charges'], dtype='object')"
      ]
     },
     "execution_count": 33,
     "metadata": {},
     "output_type": "execute_result"
    }
   ],
   "source": [
    "df.columns"
   ]
  },
  {
   "cell_type": "markdown",
   "id": "5e9e7eaf",
   "metadata": {},
   "source": [
    "# Exploratory Data Analysis"
   ]
  },
  {
   "cell_type": "code",
   "execution_count": 34,
   "id": "54d3ec91",
   "metadata": {},
   "outputs": [
    {
     "name": "stdout",
     "output_type": "stream",
     "text": [
      "age\n",
      "[19 18 28 33 32]\n",
      "47\n",
      "\n",
      "sex\n",
      "['female' 'male']\n",
      "2\n",
      "\n",
      "bmi\n",
      "[27.9   33.77  33.    22.705 28.88 ]\n",
      "548\n",
      "\n",
      "children\n",
      "[0 1 3 2 5]\n",
      "6\n",
      "\n",
      "smoker\n",
      "['yes' 'no']\n",
      "2\n",
      "\n",
      "region\n",
      "['southwest' 'southeast' 'northwest' 'northeast']\n",
      "4\n",
      "\n",
      "charges\n",
      "[16884.924    1725.5523   4449.462   21984.47061  3866.8552 ]\n",
      "1337\n",
      "\n"
     ]
    }
   ],
   "source": [
    "for col in df.columns:\n",
    "    print(col)\n",
    "    print(df[col].unique()[:5])\n",
    "    print(df[col].nunique())\n",
    "    print()"
   ]
  },
  {
   "cell_type": "code",
   "execution_count": 35,
   "id": "462ee236",
   "metadata": {},
   "outputs": [],
   "source": [
    "df['sex']= df['sex'].map({'female':0, 'male':1 })\n",
    "df['smoker']= df['smoker'].map({'yes':1, 'no':0})\n",
    "df['region']=df['region'].map({'southwest':0,'southeast':1, 'northwest':2, 'northeast':3}) "
   ]
  },
  {
   "cell_type": "code",
   "execution_count": 36,
   "id": "5084b59b",
   "metadata": {},
   "outputs": [
    {
     "data": {
      "text/html": [
       "<div>\n",
       "<style scoped>\n",
       "    .dataframe tbody tr th:only-of-type {\n",
       "        vertical-align: middle;\n",
       "    }\n",
       "\n",
       "    .dataframe tbody tr th {\n",
       "        vertical-align: top;\n",
       "    }\n",
       "\n",
       "    .dataframe thead th {\n",
       "        text-align: right;\n",
       "    }\n",
       "</style>\n",
       "<table border=\"1\" class=\"dataframe\">\n",
       "  <thead>\n",
       "    <tr style=\"text-align: right;\">\n",
       "      <th></th>\n",
       "      <th>age</th>\n",
       "      <th>sex</th>\n",
       "      <th>bmi</th>\n",
       "      <th>children</th>\n",
       "      <th>smoker</th>\n",
       "      <th>region</th>\n",
       "      <th>charges</th>\n",
       "    </tr>\n",
       "  </thead>\n",
       "  <tbody>\n",
       "    <tr>\n",
       "      <th>0</th>\n",
       "      <td>19</td>\n",
       "      <td>0</td>\n",
       "      <td>27.900</td>\n",
       "      <td>0</td>\n",
       "      <td>1</td>\n",
       "      <td>0</td>\n",
       "      <td>16884.92400</td>\n",
       "    </tr>\n",
       "    <tr>\n",
       "      <th>1</th>\n",
       "      <td>18</td>\n",
       "      <td>1</td>\n",
       "      <td>33.770</td>\n",
       "      <td>1</td>\n",
       "      <td>0</td>\n",
       "      <td>1</td>\n",
       "      <td>1725.55230</td>\n",
       "    </tr>\n",
       "    <tr>\n",
       "      <th>2</th>\n",
       "      <td>28</td>\n",
       "      <td>1</td>\n",
       "      <td>33.000</td>\n",
       "      <td>3</td>\n",
       "      <td>0</td>\n",
       "      <td>1</td>\n",
       "      <td>4449.46200</td>\n",
       "    </tr>\n",
       "    <tr>\n",
       "      <th>3</th>\n",
       "      <td>33</td>\n",
       "      <td>1</td>\n",
       "      <td>22.705</td>\n",
       "      <td>0</td>\n",
       "      <td>0</td>\n",
       "      <td>2</td>\n",
       "      <td>21984.47061</td>\n",
       "    </tr>\n",
       "    <tr>\n",
       "      <th>4</th>\n",
       "      <td>32</td>\n",
       "      <td>1</td>\n",
       "      <td>28.880</td>\n",
       "      <td>0</td>\n",
       "      <td>0</td>\n",
       "      <td>2</td>\n",
       "      <td>3866.85520</td>\n",
       "    </tr>\n",
       "    <tr>\n",
       "      <th>...</th>\n",
       "      <td>...</td>\n",
       "      <td>...</td>\n",
       "      <td>...</td>\n",
       "      <td>...</td>\n",
       "      <td>...</td>\n",
       "      <td>...</td>\n",
       "      <td>...</td>\n",
       "    </tr>\n",
       "    <tr>\n",
       "      <th>1333</th>\n",
       "      <td>50</td>\n",
       "      <td>1</td>\n",
       "      <td>30.970</td>\n",
       "      <td>3</td>\n",
       "      <td>0</td>\n",
       "      <td>2</td>\n",
       "      <td>10600.54830</td>\n",
       "    </tr>\n",
       "    <tr>\n",
       "      <th>1334</th>\n",
       "      <td>18</td>\n",
       "      <td>0</td>\n",
       "      <td>31.920</td>\n",
       "      <td>0</td>\n",
       "      <td>0</td>\n",
       "      <td>3</td>\n",
       "      <td>2205.98080</td>\n",
       "    </tr>\n",
       "    <tr>\n",
       "      <th>1335</th>\n",
       "      <td>18</td>\n",
       "      <td>0</td>\n",
       "      <td>36.850</td>\n",
       "      <td>0</td>\n",
       "      <td>0</td>\n",
       "      <td>1</td>\n",
       "      <td>1629.83350</td>\n",
       "    </tr>\n",
       "    <tr>\n",
       "      <th>1336</th>\n",
       "      <td>21</td>\n",
       "      <td>0</td>\n",
       "      <td>25.800</td>\n",
       "      <td>0</td>\n",
       "      <td>0</td>\n",
       "      <td>0</td>\n",
       "      <td>2007.94500</td>\n",
       "    </tr>\n",
       "    <tr>\n",
       "      <th>1337</th>\n",
       "      <td>61</td>\n",
       "      <td>0</td>\n",
       "      <td>29.070</td>\n",
       "      <td>0</td>\n",
       "      <td>1</td>\n",
       "      <td>2</td>\n",
       "      <td>29141.36030</td>\n",
       "    </tr>\n",
       "  </tbody>\n",
       "</table>\n",
       "<p>1338 rows × 7 columns</p>\n",
       "</div>"
      ],
      "text/plain": [
       "      age  sex     bmi  children  smoker  region      charges\n",
       "0      19    0  27.900         0       1       0  16884.92400\n",
       "1      18    1  33.770         1       0       1   1725.55230\n",
       "2      28    1  33.000         3       0       1   4449.46200\n",
       "3      33    1  22.705         0       0       2  21984.47061\n",
       "4      32    1  28.880         0       0       2   3866.85520\n",
       "...   ...  ...     ...       ...     ...     ...          ...\n",
       "1333   50    1  30.970         3       0       2  10600.54830\n",
       "1334   18    0  31.920         0       0       3   2205.98080\n",
       "1335   18    0  36.850         0       0       1   1629.83350\n",
       "1336   21    0  25.800         0       0       0   2007.94500\n",
       "1337   61    0  29.070         0       1       2  29141.36030\n",
       "\n",
       "[1338 rows x 7 columns]"
      ]
     },
     "execution_count": 36,
     "metadata": {},
     "output_type": "execute_result"
    }
   ],
   "source": [
    "df"
   ]
  },
  {
   "cell_type": "code",
   "execution_count": 37,
   "id": "78227dcd",
   "metadata": {},
   "outputs": [
    {
     "data": {
      "text/plain": [
       "<AxesSubplot:xlabel='charges', ylabel='Count'>"
      ]
     },
     "execution_count": 37,
     "metadata": {},
     "output_type": "execute_result"
    },
    {
     "data": {
      "image/png": "[encoded data removed]",
      "text/plain": [
       "<Figure size 1152x432 with 1 Axes>"
      ]
     },
     "metadata": {
      "needs_background": "light"
     },
     "output_type": "display_data"
    }
   ],
   "source": [
    "fig= plt.figure(figsize=(16,6))\n",
    "sns.histplot(df['charges'], bins=10)"
   ]
  },
  {
   "cell_type": "code",
   "execution_count": 38,
   "id": "963df558",
   "metadata": {},
   "outputs": [
    {
     "name": "stdout",
     "output_type": "stream",
     "text": [
      "The min charges is 1121.8739\n",
      "The max charges is 63770.42801\n"
     ]
    }
   ],
   "source": [
    "print(f\"The min charges is {df['charges'].min()}\")\n",
    "print(f\"The max charges is {df['charges'].max()}\")\n"
   ]
  },
  {
   "cell_type": "code",
   "execution_count": 39,
   "id": "92c5ee01",
   "metadata": {},
   "outputs": [
    {
     "name": "stdout",
     "output_type": "stream",
     "text": [
      "The min age is 18\n",
      "The max age is 64\n",
      "The avg age is 39.20702541106129\n"
     ]
    }
   ],
   "source": [
    "print(f\"The min age is {df['age'].min()}\")\n",
    "print(f\"The max age is {df['age'].max()}\")\n",
    "print(f\"The avg age is {df['age'].mean()}\")"
   ]
  },
  {
   "cell_type": "markdown",
   "id": "7b5392c5",
   "metadata": {},
   "source": [
    "# Setting up the frame work"
   ]
  },
  {
   "cell_type": "code",
   "execution_count": 40,
   "id": "de10b290",
   "metadata": {},
   "outputs": [],
   "source": [
    "df_full_train, df_test = train_test_split(df, test_size= 0.2, random_state= 1)\n",
    "df_train, df_val = train_test_split(df_full_train, test_size= 0.25, random_state= 1 )"
   ]
  },
  {
   "cell_type": "code",
   "execution_count": 69,
   "id": "a732d9a2",
   "metadata": {},
   "outputs": [],
   "source": [
    "df_train, df_test = train_test_split(df, test_size=0.2, random_state= 1)\n",
    "#df_train, df_val = train_test_split(df_full_train, test_size= 0.25, random_state=1)"
   ]
  },
  {
   "cell_type": "code",
   "execution_count": 71,
   "id": "11a5890a",
   "metadata": {},
   "outputs": [
    {
     "data": {
      "text/plain": [
       "(1070, 268)"
      ]
     },
     "execution_count": 71,
     "metadata": {},
     "output_type": "execute_result"
    }
   ],
   "source": [
    "len(df_train), len(df_test)"
   ]
  },
  {
   "cell_type": "code",
   "execution_count": 72,
   "id": "ea274767",
   "metadata": {},
   "outputs": [
    {
     "data": {
      "text/html": [
       "<div>\n",
       "<style scoped>\n",
       "    .dataframe tbody tr th:only-of-type {\n",
       "        vertical-align: middle;\n",
       "    }\n",
       "\n",
       "    .dataframe tbody tr th {\n",
       "        vertical-align: top;\n",
       "    }\n",
       "\n",
       "    .dataframe thead th {\n",
       "        text-align: right;\n",
       "    }\n",
       "</style>\n",
       "<table border=\"1\" class=\"dataframe\">\n",
       "  <thead>\n",
       "    <tr style=\"text-align: right;\">\n",
       "      <th></th>\n",
       "      <th>age</th>\n",
       "      <th>sex</th>\n",
       "      <th>bmi</th>\n",
       "      <th>children</th>\n",
       "      <th>smoker</th>\n",
       "      <th>region</th>\n",
       "      <th>charges</th>\n",
       "    </tr>\n",
       "  </thead>\n",
       "  <tbody>\n",
       "    <tr>\n",
       "      <th>216</th>\n",
       "      <td>53</td>\n",
       "      <td>0</td>\n",
       "      <td>26.600</td>\n",
       "      <td>0</td>\n",
       "      <td>0</td>\n",
       "      <td>2</td>\n",
       "      <td>10355.64100</td>\n",
       "    </tr>\n",
       "    <tr>\n",
       "      <th>731</th>\n",
       "      <td>53</td>\n",
       "      <td>1</td>\n",
       "      <td>21.400</td>\n",
       "      <td>1</td>\n",
       "      <td>0</td>\n",
       "      <td>0</td>\n",
       "      <td>10065.41300</td>\n",
       "    </tr>\n",
       "    <tr>\n",
       "      <th>866</th>\n",
       "      <td>18</td>\n",
       "      <td>1</td>\n",
       "      <td>37.290</td>\n",
       "      <td>0</td>\n",
       "      <td>0</td>\n",
       "      <td>1</td>\n",
       "      <td>1141.44510</td>\n",
       "    </tr>\n",
       "    <tr>\n",
       "      <th>202</th>\n",
       "      <td>60</td>\n",
       "      <td>0</td>\n",
       "      <td>24.035</td>\n",
       "      <td>0</td>\n",
       "      <td>0</td>\n",
       "      <td>2</td>\n",
       "      <td>13012.20865</td>\n",
       "    </tr>\n",
       "    <tr>\n",
       "      <th>820</th>\n",
       "      <td>45</td>\n",
       "      <td>1</td>\n",
       "      <td>33.700</td>\n",
       "      <td>1</td>\n",
       "      <td>0</td>\n",
       "      <td>0</td>\n",
       "      <td>7445.91800</td>\n",
       "    </tr>\n",
       "    <tr>\n",
       "      <th>...</th>\n",
       "      <td>...</td>\n",
       "      <td>...</td>\n",
       "      <td>...</td>\n",
       "      <td>...</td>\n",
       "      <td>...</td>\n",
       "      <td>...</td>\n",
       "      <td>...</td>\n",
       "    </tr>\n",
       "    <tr>\n",
       "      <th>715</th>\n",
       "      <td>60</td>\n",
       "      <td>1</td>\n",
       "      <td>28.900</td>\n",
       "      <td>0</td>\n",
       "      <td>0</td>\n",
       "      <td>0</td>\n",
       "      <td>12146.97100</td>\n",
       "    </tr>\n",
       "    <tr>\n",
       "      <th>905</th>\n",
       "      <td>26</td>\n",
       "      <td>0</td>\n",
       "      <td>29.355</td>\n",
       "      <td>2</td>\n",
       "      <td>0</td>\n",
       "      <td>3</td>\n",
       "      <td>4564.19145</td>\n",
       "    </tr>\n",
       "    <tr>\n",
       "      <th>1096</th>\n",
       "      <td>51</td>\n",
       "      <td>0</td>\n",
       "      <td>34.960</td>\n",
       "      <td>2</td>\n",
       "      <td>1</td>\n",
       "      <td>3</td>\n",
       "      <td>44641.19740</td>\n",
       "    </tr>\n",
       "    <tr>\n",
       "      <th>235</th>\n",
       "      <td>40</td>\n",
       "      <td>0</td>\n",
       "      <td>22.220</td>\n",
       "      <td>2</td>\n",
       "      <td>1</td>\n",
       "      <td>1</td>\n",
       "      <td>19444.26580</td>\n",
       "    </tr>\n",
       "    <tr>\n",
       "      <th>1061</th>\n",
       "      <td>57</td>\n",
       "      <td>1</td>\n",
       "      <td>27.940</td>\n",
       "      <td>1</td>\n",
       "      <td>0</td>\n",
       "      <td>1</td>\n",
       "      <td>11554.22360</td>\n",
       "    </tr>\n",
       "  </tbody>\n",
       "</table>\n",
       "<p>1070 rows × 7 columns</p>\n",
       "</div>"
      ],
      "text/plain": [
       "      age  sex     bmi  children  smoker  region      charges\n",
       "216    53    0  26.600         0       0       2  10355.64100\n",
       "731    53    1  21.400         1       0       0  10065.41300\n",
       "866    18    1  37.290         0       0       1   1141.44510\n",
       "202    60    0  24.035         0       0       2  13012.20865\n",
       "820    45    1  33.700         1       0       0   7445.91800\n",
       "...   ...  ...     ...       ...     ...     ...          ...\n",
       "715    60    1  28.900         0       0       0  12146.97100\n",
       "905    26    0  29.355         2       0       3   4564.19145\n",
       "1096   51    0  34.960         2       1       3  44641.19740\n",
       "235    40    0  22.220         2       1       1  19444.26580\n",
       "1061   57    1  27.940         1       0       1  11554.22360\n",
       "\n",
       "[1070 rows x 7 columns]"
      ]
     },
     "execution_count": 72,
     "metadata": {},
     "output_type": "execute_result"
    }
   ],
   "source": [
    "df_train"
   ]
  },
  {
   "cell_type": "code",
   "execution_count": 74,
   "id": "3190d668",
   "metadata": {},
   "outputs": [],
   "source": [
    "X_train = df_train.reset_index(drop = True).copy()\n",
    "X_test = df_test.reset_index(drop= True).copy()\n",
    "#X_val = df_val.reset_index(drop=True).copy()"
   ]
  },
  {
   "cell_type": "code",
   "execution_count": 75,
   "id": "6c6af7e2",
   "metadata": {},
   "outputs": [],
   "source": [
    "y_train = np.log1p(df_train.charges.values)\n",
    "#y_val = np.log1p(df_val.charges.values)\n",
    "y_test = np.log1p(df_test.charges.values)"
   ]
  },
  {
   "cell_type": "code",
   "execution_count": 76,
   "id": "1443ec9d",
   "metadata": {
    "scrolled": false
   },
   "outputs": [],
   "source": [
    "del df_train['charges']\n",
    "#del df_val['charges']\n",
    "del df_test['charges']"
   ]
  },
  {
   "cell_type": "code",
   "execution_count": 57,
   "id": "61a43429",
   "metadata": {},
   "outputs": [
    {
     "data": {
      "text/plain": [
       "array([ 9.53834464, 10.08449087,  9.46728932,  8.71907135,  8.95258648,\n",
       "        8.87550434,  8.69793411,  8.15561137,  8.41622883, 10.49677846,\n",
       "        8.74564025,  7.39195929,  8.2705576 ,  7.12549224,  9.93456382,\n",
       "        9.56692747,  8.25810097,  9.28802698,  9.39167546, 10.4954456 ,\n",
       "       10.79724911,  9.33168233,  9.37952958,  7.02364666,  9.43318715,\n",
       "        8.37133721,  9.07500498,  9.44329005,  8.64724387,  8.29565398,\n",
       "        9.23702709, 10.08833426, 10.56390491,  7.4508663 ,  9.79286472,\n",
       "        7.13362072,  8.47232182,  8.99475309,  8.23154148,  7.44420523,\n",
       "        7.55347445,  9.96861247,  9.47134569, 10.24360788,  9.50237986,\n",
       "        9.35321682,  8.46633559, 10.18369541,  9.02443669,  9.39518264,\n",
       "        8.90233885,  9.31321976,  9.39543525, 10.25687783, 10.58970443,\n",
       "        8.55844623,  9.15015715, 10.58982696,  8.88513451, 10.07778704,\n",
       "        8.17616744,  9.26892857, 10.6481038 ,  8.81696328,  8.80290264,\n",
       "        7.39881345, 10.31452438, 10.16661885,  8.65000309,  9.48991666,\n",
       "       10.06769911,  7.85819645,  9.13658906,  8.77974758,  8.06394942,\n",
       "        9.53032732,  9.92434867,  8.07965554, 10.60347741, 10.04689308,\n",
       "        9.57581176,  8.02531627,  8.2342688 ,  8.76975941,  7.13672105,\n",
       "       10.23314106,  8.35340052,  9.02039511,  8.40461142,  7.65124604,\n",
       "        7.3921477 ,  9.22099681,  9.56501682, 10.42625222,  7.95566489,\n",
       "        8.58939557, 10.04613319,  8.82436361,  8.4130902 ,  9.1361083 ,\n",
       "        8.89919152,  9.14709822, 10.70643482,  8.08315443,  8.63612363,\n",
       "        8.57038808,  9.49023069,  9.08570754,  9.06025692,  9.2333242 ,\n",
       "        9.87051844, 10.55874147,  8.21458102,  9.25185812,  8.34048301,\n",
       "       10.41860845,  9.28664935,  8.62789445,  9.40491744,  8.56760261,\n",
       "        9.53573701,  8.92773392,  9.3069871 ,  9.52871209,  8.38952594,\n",
       "        8.80309196,  8.81723722,  9.5270815 ,  9.14444913,  9.87901767,\n",
       "        8.95317808,  9.59517202,  8.09971517,  9.28714735,  9.30357984,\n",
       "        9.48270093,  9.24538324,  9.57890938,  8.75035867,  9.33258836,\n",
       "       10.37691229,  8.94046162,  8.86477342,  9.0183665 ,  8.43795081,\n",
       "        9.04979111,  8.83200773,  7.62397681,  9.41126701,  8.41213024,\n",
       "        9.45706057, 10.76439886,  8.4596751 , 10.5159596 ,  7.39162495,\n",
       "       10.13897417,  9.37908349, 10.78258223,  9.30366734,  8.84645389,\n",
       "        8.88221135, 10.61451274, 10.47708063, 10.27243171,  9.31395396,\n",
       "        7.42868785,  7.91312306,  8.37533816,  8.25548395, 10.41356942,\n",
       "        7.55513463,  9.97457391,  8.95294768, 10.43142241,  8.94132423,\n",
       "       10.08115926,  9.87526057,  9.87934691, 10.70155322,  8.12975761,\n",
       "        9.74357354,  9.08534227, 10.79898862,  9.57385153,  8.99513572,\n",
       "        9.50261857,  8.23278363,  8.12957739,  7.03218869, 10.29296438,\n",
       "       10.39051239,  8.27556948,  8.09586347, 10.39620581,  7.67390614,\n",
       "       10.45758723,  9.53571598,  9.79143249,  9.46947774,  8.6417488 ,\n",
       "        9.43946989,  8.93912439, 10.21636365,  9.53879513,  9.04117197,\n",
       "        8.68741619,  9.00179968,  8.59389803, 10.44795608,  8.68627821,\n",
       "        8.09503787,  8.91525   ,  7.97263474, 10.59674303,  8.56835567,\n",
       "       10.10550873,  9.77929211,  7.89429916,  8.15260404,  8.65347173,\n",
       "        9.38816288, 10.13991578,  9.24376853,  8.48437704, 10.59624531,\n",
       "        8.79065625,  9.37049122,  9.10109014,  9.91186913,  9.1596059 ,\n",
       "        8.85173599,  8.45972012,  9.50740039,  8.59015696,  8.11799361,\n",
       "        7.81681155,  9.61631065,  9.23002262,  8.73226454,  8.54212299,\n",
       "       10.2116866 ,  7.39974873, 10.64352063,  9.7277823 ,  8.49612343,\n",
       "        7.69506343,  9.34093569, 10.31842905,  7.58779189,  7.69716541,\n",
       "        8.49389713,  7.7224452 ,  9.34467353,  7.70171147,  8.57794389,\n",
       "        7.03703728,  9.72068893, 10.59256444,  9.57686185, 10.63735917,\n",
       "        9.2785101 ,  7.99804167, 10.25660334, 10.20798964,  7.44227272,\n",
       "        9.08546693,  8.7876401 ,  9.35477867,  9.47146346,  8.67537616,\n",
       "       10.10211799,  8.35252906, 10.65870373,  9.07159036,  9.57467496,\n",
       "        7.69836303,  7.75088237, 10.79035315,  9.12512774,  9.90020507,\n",
       "       10.11345116,  8.37596158,  9.57864588, 10.17071209,  9.91827091,\n",
       "       10.50729197,  9.19793174, 10.44158938,  7.45581715,  9.02979695,\n",
       "        9.14621827, 10.00870823,  7.69584432,  9.42018208,  9.32066613,\n",
       "       10.20090388,  8.58579992,  8.88329244,  8.0732444 ,  7.66812676,\n",
       "        7.32405805,  9.14974128,  8.71823067,  9.06015491, 10.77682467,\n",
       "        9.33666628,  9.95156764, 10.68235222, 10.73969827, 10.72991971,\n",
       "       10.70518541,  8.12560436,  8.68472999,  9.57215758, 10.53857056,\n",
       "       10.58654417,  8.56928563,  9.46428914, 10.18086396,  9.83994788,\n",
       "        8.05910359,  9.02827369,  8.95455867,  8.91555553, 10.43902354,\n",
       "        8.42183467,  9.18501339,  9.40348763,  7.51658666,  7.95288266,\n",
       "        7.98209697, 10.58690651,  9.81051944,  9.36996287,  9.85439583,\n",
       "        8.07546507,  8.91199874,  8.46534058,  9.99341143,  7.6970445 ,\n",
       "        9.00292061,  9.28972936,  9.48247806,  7.75470408,  9.06007819,\n",
       "        8.52300559, 10.74935815,  8.50729612,  8.35135747,  8.27796596,\n",
       "        9.48378646,  9.50348676,  8.63344065,  7.82381174,  8.83030449,\n",
       "        9.54505789, 10.28149521,  9.46706461,  9.06283072,  9.73423565,\n",
       "        9.09292296,  9.26875534, 10.05373668,  9.18910304,  7.50487377,\n",
       "        8.93958005,  7.51943152,  8.13485576,  9.9562299 ,  9.00174903,\n",
       "        9.11559754,  9.69884959,  7.33126461,  8.18659805,  8.72993069,\n",
       "        8.88982144,  8.5404214 ,  8.30232548, 10.02036351,  8.48293916,\n",
       "        7.66793175,  9.41937981,  8.87516018,  7.93905109,  9.11159463,\n",
       "        9.29880291,  8.06511124, 10.84340807,  7.33528822,  8.02132623,\n",
       "        9.51458489,  9.33317149,  8.94685258,  8.01394186,  8.33952429,\n",
       "       10.55180977,  9.46614412,  9.02828953,  9.44519168,  9.58022493,\n",
       "        8.59128642,  9.36386621,  7.70641697,  8.83593212,  9.50689214,\n",
       "        7.41818058,  9.5804774 ,  7.82205283,  9.19698203,  9.22599551,\n",
       "        7.74209816,  8.75735443, 10.44302212,  8.95263814,  9.63110938,\n",
       "       10.39783186,  7.12493307,  7.91246261,  8.89051258,  8.50185941,\n",
       "       10.15259414,  9.10266441,  8.5989618 ,  7.97747723,  9.98326546,\n",
       "        8.74056632,  8.73009581,  9.83984865,  9.38698964,  8.77289882,\n",
       "       10.5910008 ,  9.89338947,  8.4654899 , 10.66827732,  7.68143674,\n",
       "       10.49737793,  7.81019809,  9.60928538,  7.70457266,  8.51794945,\n",
       "        7.43590776,  7.39528103,  9.62658282,  8.28750947, 10.47972377,\n",
       "        9.06787678, 10.04527206,  9.19584902,  9.43242744,  9.02141985,\n",
       "        9.98839574, 10.57751414,  9.21695972,  8.77923217,  9.48934197,\n",
       "        9.17231862,  8.45293133,  8.69540376,  9.03944164, 10.11327912,\n",
       "        9.79424749,  7.53845743,  7.65212462,  8.07160745, 10.09527819,\n",
       "        8.87465402,  9.13599182,  9.19763004,  8.93927022, 10.06058983,\n",
       "        9.98028109,  9.88942386, 10.66564382,  9.40148291,  9.99787353,\n",
       "        9.4814055 ,  9.50420614,  9.9414877 ,  9.33981703,  8.49269168,\n",
       "       10.76843224,  8.8204325 ,  9.18250967,  7.44173095, 10.56601277,\n",
       "        8.46870207,  9.25559853,  8.35870514, 10.75556528,  9.11041255,\n",
       "        9.3071199 ,  7.80718919, 10.33990828,  8.6086846 ,  9.96332044,\n",
       "        9.05200934, 10.57255424,  7.44543321,  7.69938071, 10.75190971,\n",
       "        9.14765038,  9.30879666,  9.34118442,  8.41807602,  9.7289801 ,\n",
       "        9.38001065,  8.56526441,  8.59452092, 10.70329836,  8.95323378,\n",
       "        9.88707031,  7.53708048,  9.2688368 ,  9.24244021,  8.09249837,\n",
       "        9.09886286, 10.12327431,  9.33019516,  9.42258854,  9.9017734 ,\n",
       "        9.62714554, 10.05653249,  7.59485089,  7.42394587,  9.25033827,\n",
       "        9.68758674,  8.18829905,  7.81372659, 10.46769662,  8.62977973,\n",
       "        8.60502941,  9.31421585, 10.59344727, 10.64423953,  8.54192262,\n",
       "       10.6633935 , 10.79291177,  8.56956136,  8.82474524,  7.90537843,\n",
       "        8.35743375,  8.48630506,  8.99020921,  9.21898748,  9.12102434,\n",
       "        8.89105789,  7.70463219,  8.83338686, 10.46733803,  8.54666512,\n",
       "        8.81153184,  8.96067765, 10.5349861 ,  9.50534048,  8.44861616,\n",
       "        9.45957693,  9.23281435,  8.29175726,  9.70819593,  9.87535892,\n",
       "        7.39797095, 10.69017479, 10.44699881, 10.76648046,  9.84191808,\n",
       "        9.21761932, 10.53170812,  9.66913763,  9.65587156,  9.76980221,\n",
       "        9.53474836,  9.37938882,  9.0377073 ,  9.44093883,  7.89748062,\n",
       "        9.7063464 , 10.05577629,  9.57850882,  9.34618347,  8.60985757,\n",
       "        9.84372182,  7.91678853,  7.90924003,  8.83622568,  9.41114819,\n",
       "        8.86092775,  9.59646932,  8.23186696,  8.9037032 ,  9.17173786,\n",
       "       10.00536846, 10.7419489 , 10.75069489,  9.48837246,  8.65841727,\n",
       "        7.62867564,  9.22187448, 10.49654093,  9.08526218, 11.06306053,\n",
       "        9.77720068,  9.33846548,  9.17321342,  8.42779636,  7.44613401,\n",
       "        8.98563   ,  9.05926487,  9.30203767,  9.32771238,  8.39752958,\n",
       "        8.3782792 ,  9.26653988,  9.43545037,  9.16794352,  7.93818109,\n",
       "        9.63952881,  9.50835422, 10.49366633,  8.46687559,  9.13808077,\n",
       "       10.79295201,  8.71080523,  7.45517413,  9.26815877,  8.72006363,\n",
       "       10.60708046,  9.36380958, 10.43121905,  9.98406628,  9.27833937,\n",
       "        9.06991198,  8.74408606,  9.21475551, 10.71463898, 10.50228493,\n",
       "        9.78411297, 10.79600697,  9.6151007 ,  9.33500765,  8.42555772,\n",
       "        8.39714482, 10.22321004,  8.17832698,  9.47768322,  9.54739972,\n",
       "        9.48986857,  7.44165353, 10.91756543,  8.60766423,  9.45848439,\n",
       "        8.42592011,  9.68471473,  9.28808687,  8.6720614 ,  7.06001506,\n",
       "        9.44538905,  9.50524893, 10.64543728,  7.87625585,  9.57632151,\n",
       "        9.01598333,  7.47326112,  9.38286153,  9.05243296,  8.20531296,\n",
       "        8.26274835, 10.21745505,  8.40384645, 10.31513142, 10.21551098,\n",
       "        8.37747662,  8.54466374,  8.75774851,  9.85790317,  9.30414954,\n",
       "        9.85982698,  8.90092353, 10.51628136,  7.5398177 ,  9.37112321,\n",
       "        8.87826883,  9.96460043,  7.79936603,  8.1049429 ,  9.44496795,\n",
       "        9.31935441,  7.74283691, 10.45851779,  8.88588582, 10.14714382,\n",
       "        9.52051541,  7.90849   ,  9.85030679,  7.60536499, 10.75910497,\n",
       "       10.58551045, 10.27054663,  8.63953736,  9.76823948,  9.83357042,\n",
       "        8.51988377, 10.10700338,  8.02731603,  9.54558688,  9.16617853,\n",
       "       10.55439418,  7.61143529,  9.71640454,  8.3657355 ,  7.6583875 ,\n",
       "        9.08661955,  9.19812686,  7.47903515,  9.38811782,  8.1563183 ,\n",
       "       10.51735494, 10.49475631,  8.71837429,  8.42621573,  7.58364439,\n",
       "        8.87275386,  9.15358486,  8.46947707,  7.78561025,  8.87668587,\n",
       "        8.50026265,  7.03609634,  8.44726124,  8.40373818,  8.06378319,\n",
       "        8.44985442,  8.76006993,  8.82207955,  7.46477627,  8.91496223,\n",
       "        7.58478461,  8.15810078,  8.33104095,  7.23887658,  7.46724192,\n",
       "        9.64983197,  9.19837588,  9.1643556 ,  8.79503112,  8.59964426,\n",
       "        9.00745477, 10.52231246,  8.89901223,  7.39684651,  9.81529777,\n",
       "        8.33135234,  8.58047799,  9.34248074,  8.87641804,  7.38306363,\n",
       "        9.43159024,  8.92442567,  8.18283843,  7.67571351,  9.19733722,\n",
       "       10.73888295,  7.7677842 , 10.17008626,  9.04991678,  9.05978829,\n",
       "        8.98554734,  9.75153158,  9.86271472,  8.78709743,  8.90201013,\n",
       "        9.70848845,  9.16353128,  9.22008969, 10.54868444,  9.8498874 ,\n",
       "        8.64995101,  9.1714605 ,  8.9251918 , 10.14184664,  8.49850152,\n",
       "       10.27337623,  8.69629808,  8.2832595 ,  9.06141104,  9.74603036,\n",
       "        8.02193313,  9.08062671,  9.12639757,  9.47119257,  7.97381218,\n",
       "        7.83810423,  9.33823066, 10.52315405,  8.59162101,  9.35593748,\n",
       "        9.42802532, 10.70102642,  7.95733052,  7.14080322,  8.5668447 ,\n",
       "       10.54087686,  8.71331985])"
      ]
     },
     "execution_count": 57,
     "metadata": {},
     "output_type": "execute_result"
    }
   ],
   "source": [
    "y_train"
   ]
  },
  {
   "cell_type": "markdown",
   "id": "5cbdf4fd",
   "metadata": {},
   "source": [
    "# Linear reg"
   ]
  },
  {
   "cell_type": "code",
   "execution_count": 77,
   "id": "ae9c5316",
   "metadata": {},
   "outputs": [
    {
     "data": {
      "text/plain": [
       "LinearRegression()"
      ]
     },
     "execution_count": 77,
     "metadata": {},
     "output_type": "execute_result"
    }
   ],
   "source": [
    "lin = LinearRegression()\n",
    "lin.fit(X_train, y_train)"
   ]
  },
  {
   "cell_type": "code",
   "execution_count": 87,
   "id": "0883dc49",
   "metadata": {},
   "outputs": [],
   "source": [
    "y_pred= lin.predict(X_test)"
   ]
  },
  {
   "cell_type": "code",
   "execution_count": 79,
   "id": "95c5cc06",
   "metadata": {},
   "outputs": [],
   "source": [
    "new_df = pd.DataFrame({'actual': y_test, 'lin': y_pred})"
   ]
  },
  {
   "cell_type": "code",
   "execution_count": 80,
   "id": "e8666f12",
   "metadata": {},
   "outputs": [
    {
     "data": {
      "text/html": [
       "<div>\n",
       "<style scoped>\n",
       "    .dataframe tbody tr th:only-of-type {\n",
       "        vertical-align: middle;\n",
       "    }\n",
       "\n",
       "    .dataframe tbody tr th {\n",
       "        vertical-align: top;\n",
       "    }\n",
       "\n",
       "    .dataframe thead th {\n",
       "        text-align: right;\n",
       "    }\n",
       "</style>\n",
       "<table border=\"1\" class=\"dataframe\">\n",
       "  <thead>\n",
       "    <tr style=\"text-align: right;\">\n",
       "      <th></th>\n",
       "      <th>actual</th>\n",
       "      <th>lin</th>\n",
       "    </tr>\n",
       "  </thead>\n",
       "  <tbody>\n",
       "    <tr>\n",
       "      <th>0</th>\n",
       "      <td>7.406972</td>\n",
       "      <td>7.878604</td>\n",
       "    </tr>\n",
       "    <tr>\n",
       "      <th>1</th>\n",
       "      <td>9.337345</td>\n",
       "      <td>9.198255</td>\n",
       "    </tr>\n",
       "    <tr>\n",
       "      <th>2</th>\n",
       "      <td>9.082461</td>\n",
       "      <td>8.846290</td>\n",
       "    </tr>\n",
       "    <tr>\n",
       "      <th>3</th>\n",
       "      <td>9.247875</td>\n",
       "      <td>9.230102</td>\n",
       "    </tr>\n",
       "    <tr>\n",
       "      <th>4</th>\n",
       "      <td>7.651634</td>\n",
       "      <td>8.027036</td>\n",
       "    </tr>\n",
       "    <tr>\n",
       "      <th>...</th>\n",
       "      <td>...</td>\n",
       "      <td>...</td>\n",
       "    </tr>\n",
       "    <tr>\n",
       "      <th>263</th>\n",
       "      <td>10.599254</td>\n",
       "      <td>10.723771</td>\n",
       "    </tr>\n",
       "    <tr>\n",
       "      <th>264</th>\n",
       "      <td>10.668594</td>\n",
       "      <td>10.947006</td>\n",
       "    </tr>\n",
       "    <tr>\n",
       "      <th>265</th>\n",
       "      <td>10.696563</td>\n",
       "      <td>11.121002</td>\n",
       "    </tr>\n",
       "    <tr>\n",
       "      <th>266</th>\n",
       "      <td>7.667571</td>\n",
       "      <td>7.974831</td>\n",
       "    </tr>\n",
       "    <tr>\n",
       "      <th>267</th>\n",
       "      <td>8.561973</td>\n",
       "      <td>8.553858</td>\n",
       "    </tr>\n",
       "  </tbody>\n",
       "</table>\n",
       "<p>268 rows × 2 columns</p>\n",
       "</div>"
      ],
      "text/plain": [
       "        actual        lin\n",
       "0     7.406972   7.878604\n",
       "1     9.337345   9.198255\n",
       "2     9.082461   8.846290\n",
       "3     9.247875   9.230102\n",
       "4     7.651634   8.027036\n",
       "..         ...        ...\n",
       "263  10.599254  10.723771\n",
       "264  10.668594  10.947006\n",
       "265  10.696563  11.121002\n",
       "266   7.667571   7.974831\n",
       "267   8.561973   8.553858\n",
       "\n",
       "[268 rows x 2 columns]"
      ]
     },
     "execution_count": 80,
     "metadata": {},
     "output_type": "execute_result"
    }
   ],
   "source": [
    "new_df"
   ]
  },
  {
   "cell_type": "markdown",
   "id": "6d3b7aee",
   "metadata": {},
   "source": [
    "# Model Eval"
   ]
  },
  {
   "cell_type": "code",
   "execution_count": 81,
   "id": "07743784",
   "metadata": {},
   "outputs": [],
   "source": [
    "from sklearn import metrics"
   ]
  },
  {
   "cell_type": "code",
   "execution_count": 85,
   "id": "6efd011b",
   "metadata": {},
   "outputs": [
    {
     "data": {
      "text/plain": [
       "0.89"
      ]
     },
     "execution_count": 85,
     "metadata": {},
     "output_type": "execute_result"
    }
   ],
   "source": [
    "score = metrics.r2_score(y_test, y_pred)\n",
    "score.round(2)"
   ]
  },
  {
   "cell_type": "code",
   "execution_count": 90,
   "id": "3ea9160e",
   "metadata": {},
   "outputs": [
    {
     "name": "stdout",
     "output_type": "stream",
     "text": [
      "MSE score is 0.1\n"
     ]
    }
   ],
   "source": [
    "from sklearn.metrics import mean_squared_error\n",
    "Mse_score = mean_squared_error(y_test, y_pred).round(2)\n",
    "print(f\"MSE score is {Mse_score}\")"
   ]
  },
  {
   "cell_type": "code",
   "execution_count": null,
   "id": "3ce0a44b",
   "metadata": {},
   "outputs": [],
   "source": []
  }
 ],
 "metadata": {
  "kernelspec": {
   "display_name": "Python 3",
   "language": "python",
   "name": "python3"
  },
  "language_info": {
   "codemirror_mode": {
    "name": "ipython",
    "version": 3
   },
   "file_extension": ".py",
   "mimetype": "text/x-python",
   "name": "python",
   "nbconvert_exporter": "python",
   "pygments_lexer": "ipython3",
   "version": "3.8.8"
  }
 },
 "nbformat": 4,
 "nbformat_minor": 5
}
